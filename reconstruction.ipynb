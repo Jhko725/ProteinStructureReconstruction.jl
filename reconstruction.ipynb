{
 "cells": [
  {
   "cell_type": "code",
   "execution_count": 1,
   "metadata": {},
   "outputs": [],
   "source": [
    "%load_ext autoreload\n",
    "%autoreload 2\n",
    "%matplotlib qt\n",
    "\n",
    "from typing import Union\n",
    "from pathlib import Path\n",
    "\n",
    "import numpy as np\n",
    "import h5py\n",
    "import matplotlib.pyplot as plt\n",
    "from skimage.filters import threshold_local\n",
    "from skimage.morphology import skeletonize_3d, skeletonize\n",
    "import porespy\n",
    "\n",
    "from superresolution import SIM_3D_Data, SpatialUnit, cast_to_float32\n",
    "from visualizeSIM import plot_overlay, plot_selection_box, plot_slices"
   ]
  },
  {
   "cell_type": "code",
   "execution_count": 2,
   "metadata": {},
   "outputs": [],
   "source": [
    "def read_SIM(filepath: Union[str, Path]):\n",
    "    #filepath = Path(filepath)\n",
    "    file = h5py.File(filepath, 'r')\n",
    "    data = file['Data']\n",
    "    scale = tuple(data.attrs['pixel_sizes'])\n",
    "    channels = data.attrs['channels']\n",
    "\n",
    "    return [SIM_3D_Data(data[i, ...], scale, SpatialUnit.M, c) for i, c in enumerate(channels)]"
   ]
  },
  {
   "cell_type": "code",
   "execution_count": 3,
   "metadata": {},
   "outputs": [],
   "source": [
    "SIM_data = read_SIM('./Data/Fed_X63_Z3_SIM.h5')\n",
    "SIM_data = [cast_to_float32(single_channel_data) for single_channel_data in SIM_data]"
   ]
  },
  {
   "cell_type": "code",
   "execution_count": 98,
   "metadata": {},
   "outputs": [],
   "source": [
    "x_range, y_range, z_range = (800, 950), (1850, 2000), None\n",
    "cropped_SIM = [SIM.crop_data(x_range, y_range, z_range) for SIM in SIM_data]\n",
    "\n",
    "\n",
    "fig, axes = plt.subplots(1, 2, figsize = (15, 8))\n",
    "cmaps = ('Greens', 'Reds')\n",
    "\n",
    "for ax, SIM, cmap in zip(axes, SIM_data, cmaps):\n",
    "    ax = plot_overlay(SIM, ax, cmap = cmap)\n",
    "    \n",
    "    ax.set_title(f'{SIM.name.capitalize()} overlay')\n",
    "    ax = plot_selection_box(x_range, y_range, ax, linewidth = 1, edgecolor = 'r', facecolor = 'none')\n",
    "fig.suptitle(f'ROI for $x \\in {x_range}$; $y \\in {y_range}$')\n",
    "fig.tight_layout()"
   ]
  },
  {
   "cell_type": "code",
   "execution_count": 99,
   "metadata": {},
   "outputs": [],
   "source": [
    "for ax, SIM, cmap in zip(axes, cropped_SIM, cmaps):\n",
    "    ax = plot_overlay(SIM, ax, cmap = cmap)\n",
    "    \n",
    "    ax.set_title(f'{SIM.name.capitalize()} overlay')\n",
    "    #ax = plot_selection_box(x_range, y_range, ax, linewidth = 1, edgecolor = 'r', facecolor = 'none')\n",
    "fig.suptitle(f'ROI for $x \\in {x_range}$; $y \\in {y_range}$')\n",
    "fig.tight_layout()"
   ]
  },
  {
   "cell_type": "code",
   "execution_count": 101,
   "metadata": {},
   "outputs": [],
   "source": [
    "channel = 1\n",
    "plt.rc('font', size = 12)\n",
    "fig, ax = plot_slices(cropped_SIM[channel], 5, 5, cmap = cmaps[channel])\n",
    "fig.suptitle(f'{cropped_SIM[channel].name.capitalize()} channel, raw')\n",
    "fig.tight_layout()"
   ]
  },
  {
   "cell_type": "code",
   "execution_count": 102,
   "metadata": {},
   "outputs": [],
   "source": [
    "import scipy.ndimage as ndimage\n",
    "\n",
    "interp_SIM = [SIM[15:35, :, :].apply(lambda vol: ndimage.zoom(vol, (1.3252e-07/3.130295e-08, 1, 1))) for SIM in cropped_SIM]\n",
    "for SIM in interp_SIM:\n",
    "    SIM.scale = (3.130295e-08, 3.130295e-08, 3.130295e-08)"
   ]
  },
  {
   "cell_type": "code",
   "execution_count": 103,
   "metadata": {},
   "outputs": [],
   "source": [
    "bin_int_SIM = [SIM.apply_along_axis(lambda img: img > threshold_local(img, 23)) for SIM in interp_SIM]"
   ]
  },
  {
   "cell_type": "code",
   "execution_count": 104,
   "metadata": {},
   "outputs": [
    {
     "data": {
      "text/plain": [
       "(85, 150, 150)"
      ]
     },
     "execution_count": 104,
     "metadata": {},
     "output_type": "execute_result"
    }
   ],
   "source": [
    "bin_int_SIM[0].shape"
   ]
  },
  {
   "cell_type": "code",
   "execution_count": 106,
   "metadata": {},
   "outputs": [],
   "source": [
    "channel = 1\n",
    "plt.rc('font', size = 12)\n",
    "fig, ax = plot_slices(bin_int_SIM[channel], 5, 5, cmap = cmaps[channel])\n",
    "fig.suptitle(f'{bin_int_SIM[channel].name.capitalize()} channel, locally binarized')\n",
    "fig.tight_layout()"
   ]
  },
  {
   "cell_type": "code",
   "execution_count": 109,
   "metadata": {},
   "outputs": [],
   "source": [
    "import pyvista as pv\n",
    "channel = 1\n",
    "cmap = ['kbc', 'fire'][channel]\n",
    "pvgrid = bin_int_SIM[channel].to_pvUniformGrid()\n",
    "\n",
    "plotter = pv.Plotter(notebook = False)\n",
    "plotter.add_mesh(pvgrid.threshold(value = 0.5).extract_geometry().smooth(n_iter = 500).elevation(), cmap = cmap, lighting = True, opacity = 1.0)\n",
    "plotter.show_grid()\n",
    "plotter.show()"
   ]
  },
  {
   "cell_type": "code",
   "execution_count": 17,
   "metadata": {},
   "outputs": [
    {
     "data": {
      "application/vnd.jupyter.widget-view+json": {
       "model_id": "98feb68b85d44b8aa1d9c39eb8a3e08d",
       "version_major": 2,
       "version_minor": 0
      },
      "text/plain": [
       "  0%|          | 0/40 [00:00<?, ?it/s]"
      ]
     },
     "metadata": {},
     "output_type": "display_data"
    },
    {
     "data": {
      "application/vnd.jupyter.widget-view+json": {
       "model_id": "9e1f8942a1a6496a8c8b2a8b6e5c7193",
       "version_major": 2,
       "version_minor": 0
      },
      "text/plain": [
       "  0%|          | 0/40 [00:00<?, ?it/s]"
      ]
     },
     "metadata": {},
     "output_type": "display_data"
    }
   ],
   "source": [
    "thickness_maps = [SIM.apply(lambda vol: porespy.filters.local_thickness(vol, sizes = 40)) for SIM in bin_int_SIM]"
   ]
  },
  {
   "cell_type": "code",
   "execution_count": 18,
   "metadata": {},
   "outputs": [
    {
     "data": {
      "text/plain": [
       "(array([1328355.,       0.,       0.,       0.,    3942.,    3944.,\n",
       "              0.,    1544.,   12727.,   14038.,    2907.,   24674.,\n",
       "          18267.,   25492.,   58825.,    7821.,  137879.,   46339.,\n",
       "          12474.,   15257.,  104586.,   27147.,       0.,   26489.,\n",
       "          24587.,    8535.,       0.,    1698.,    2860.,    2113.]),\n",
       " array([0.        , 0.23894886, 0.47789772, 0.71684658, 0.95579544,\n",
       "        1.19474431, 1.43369317, 1.67264203, 1.91159089, 2.15053975,\n",
       "        2.38948861, 2.62843747, 2.86738633, 3.1063352 , 3.34528406,\n",
       "        3.58423292, 3.82318178, 4.06213064, 4.3010795 , 4.54002836,\n",
       "        4.77897722, 5.01792609, 5.25687495, 5.49582381, 5.73477267,\n",
       "        5.97372153, 6.21267039, 6.45161925, 6.69056811, 6.92951697,\n",
       "        7.16846584]),\n",
       " <BarContainer object of 30 artists>)"
      ]
     },
     "execution_count": 18,
     "metadata": {},
     "output_type": "execute_result"
    }
   ],
   "source": [
    "plt.hist(thickness_maps[0].data.flatten(), bins = 30)\n"
   ]
  },
  {
   "cell_type": "code",
   "execution_count": 54,
   "metadata": {},
   "outputs": [],
   "source": [
    "import pyvista as pv\n",
    "channel = 1\n",
    "pvgrid = thickness_maps[channel].to_pvUniformGrid()\n",
    "plotter = pv.Plotter(notebook = False)\n",
    "plotter.add_mesh(pvgrid.threshold(value = 0.1).extract_geometry().smooth(n_iter = 200), cmap = 'fire', lighting = True, opacity = 1.0)\n",
    "plotter.show()"
   ]
  },
  {
   "cell_type": "code",
   "execution_count": 97,
   "metadata": {},
   "outputs": [],
   "source": []
  },
  {
   "cell_type": "code",
   "execution_count": 50,
   "metadata": {},
   "outputs": [
    {
     "ename": "KeyboardInterrupt",
     "evalue": "",
     "output_type": "error",
     "traceback": [
      "\u001b[0;31m---------------------------------------------------------------------------\u001b[0m",
      "\u001b[0;31mKeyboardInterrupt\u001b[0m                         Traceback (most recent call last)",
      "\u001b[0;32m/tmp/ipykernel_2605/2416010374.py\u001b[0m in \u001b[0;36m<module>\u001b[0;34m\u001b[0m\n\u001b[0;32m----> 1\u001b[0;31m \u001b[0mparts\u001b[0m \u001b[0;34m=\u001b[0m \u001b[0;34m[\u001b[0m\u001b[0mSIM\u001b[0m\u001b[0;34m.\u001b[0m\u001b[0mapply\u001b[0m\u001b[0;34m(\u001b[0m\u001b[0;32mlambda\u001b[0m \u001b[0mvol\u001b[0m\u001b[0;34m:\u001b[0m \u001b[0mporespy\u001b[0m\u001b[0;34m.\u001b[0m\u001b[0mfilters\u001b[0m\u001b[0;34m.\u001b[0m\u001b[0msnow_partitioning\u001b[0m\u001b[0;34m(\u001b[0m\u001b[0mvol\u001b[0m\u001b[0;34m,\u001b[0m \u001b[0mr_max\u001b[0m \u001b[0;34m=\u001b[0m \u001b[0;36m10\u001b[0m\u001b[0;34m)\u001b[0m\u001b[0;34m.\u001b[0m\u001b[0mregions\u001b[0m\u001b[0;34m)\u001b[0m \u001b[0;32mfor\u001b[0m \u001b[0mSIM\u001b[0m \u001b[0;32min\u001b[0m \u001b[0mbin_int_SIM\u001b[0m\u001b[0;34m]\u001b[0m\u001b[0;34m\u001b[0m\u001b[0;34m\u001b[0m\u001b[0m\n\u001b[0m",
      "\u001b[0;32m/tmp/ipykernel_2605/2416010374.py\u001b[0m in \u001b[0;36m<listcomp>\u001b[0;34m(.0)\u001b[0m\n\u001b[0;32m----> 1\u001b[0;31m \u001b[0mparts\u001b[0m \u001b[0;34m=\u001b[0m \u001b[0;34m[\u001b[0m\u001b[0mSIM\u001b[0m\u001b[0;34m.\u001b[0m\u001b[0mapply\u001b[0m\u001b[0;34m(\u001b[0m\u001b[0;32mlambda\u001b[0m \u001b[0mvol\u001b[0m\u001b[0;34m:\u001b[0m \u001b[0mporespy\u001b[0m\u001b[0;34m.\u001b[0m\u001b[0mfilters\u001b[0m\u001b[0;34m.\u001b[0m\u001b[0msnow_partitioning\u001b[0m\u001b[0;34m(\u001b[0m\u001b[0mvol\u001b[0m\u001b[0;34m,\u001b[0m \u001b[0mr_max\u001b[0m \u001b[0;34m=\u001b[0m \u001b[0;36m10\u001b[0m\u001b[0;34m)\u001b[0m\u001b[0;34m.\u001b[0m\u001b[0mregions\u001b[0m\u001b[0;34m)\u001b[0m \u001b[0;32mfor\u001b[0m \u001b[0mSIM\u001b[0m \u001b[0;32min\u001b[0m \u001b[0mbin_int_SIM\u001b[0m\u001b[0;34m]\u001b[0m\u001b[0;34m\u001b[0m\u001b[0;34m\u001b[0m\u001b[0m\n\u001b[0m",
      "\u001b[0;32m/mnt/c/Users/jhko7/Desktop/Projects/ProteinStructureReconstruction/superresolution.py\u001b[0m in \u001b[0;36mapply\u001b[0;34m(self, func)\u001b[0m\n\u001b[1;32m     36\u001b[0m     \u001b[0;32mdef\u001b[0m \u001b[0mapply\u001b[0m\u001b[0;34m(\u001b[0m\u001b[0mself\u001b[0m\u001b[0;34m,\u001b[0m \u001b[0mfunc\u001b[0m\u001b[0;34m)\u001b[0m\u001b[0;34m:\u001b[0m\u001b[0;34m\u001b[0m\u001b[0;34m\u001b[0m\u001b[0m\n\u001b[1;32m     37\u001b[0m         \u001b[0moutput_SIM\u001b[0m \u001b[0;34m=\u001b[0m \u001b[0mdeepcopy\u001b[0m\u001b[0;34m(\u001b[0m\u001b[0mself\u001b[0m\u001b[0;34m)\u001b[0m\u001b[0;34m\u001b[0m\u001b[0;34m\u001b[0m\u001b[0m\n\u001b[0;32m---> 38\u001b[0;31m         \u001b[0mnew_data\u001b[0m \u001b[0;34m=\u001b[0m \u001b[0mfunc\u001b[0m\u001b[0;34m(\u001b[0m\u001b[0moutput_SIM\u001b[0m\u001b[0;34m.\u001b[0m\u001b[0mdata\u001b[0m\u001b[0;34m)\u001b[0m\u001b[0;34m\u001b[0m\u001b[0;34m\u001b[0m\u001b[0m\n\u001b[0m\u001b[1;32m     39\u001b[0m         \u001b[0moutput_SIM\u001b[0m\u001b[0;34m.\u001b[0m\u001b[0mdata\u001b[0m \u001b[0;34m=\u001b[0m \u001b[0mnew_data\u001b[0m\u001b[0;34m\u001b[0m\u001b[0;34m\u001b[0m\u001b[0m\n\u001b[1;32m     40\u001b[0m         \u001b[0;32mreturn\u001b[0m \u001b[0moutput_SIM\u001b[0m\u001b[0;34m\u001b[0m\u001b[0;34m\u001b[0m\u001b[0m\n",
      "\u001b[0;32m/tmp/ipykernel_2605/2416010374.py\u001b[0m in \u001b[0;36m<lambda>\u001b[0;34m(vol)\u001b[0m\n\u001b[0;32m----> 1\u001b[0;31m \u001b[0mparts\u001b[0m \u001b[0;34m=\u001b[0m \u001b[0;34m[\u001b[0m\u001b[0mSIM\u001b[0m\u001b[0;34m.\u001b[0m\u001b[0mapply\u001b[0m\u001b[0;34m(\u001b[0m\u001b[0;32mlambda\u001b[0m \u001b[0mvol\u001b[0m\u001b[0;34m:\u001b[0m \u001b[0mporespy\u001b[0m\u001b[0;34m.\u001b[0m\u001b[0mfilters\u001b[0m\u001b[0;34m.\u001b[0m\u001b[0msnow_partitioning\u001b[0m\u001b[0;34m(\u001b[0m\u001b[0mvol\u001b[0m\u001b[0;34m,\u001b[0m \u001b[0mr_max\u001b[0m \u001b[0;34m=\u001b[0m \u001b[0;36m10\u001b[0m\u001b[0;34m)\u001b[0m\u001b[0;34m.\u001b[0m\u001b[0mregions\u001b[0m\u001b[0;34m)\u001b[0m \u001b[0;32mfor\u001b[0m \u001b[0mSIM\u001b[0m \u001b[0;32min\u001b[0m \u001b[0mbin_int_SIM\u001b[0m\u001b[0;34m]\u001b[0m\u001b[0;34m\u001b[0m\u001b[0;34m\u001b[0m\u001b[0m\n\u001b[0m",
      "\u001b[0;32m~/anaconda3/envs/vtktest/lib/python3.8/site-packages/porespy/filters/_snows.py\u001b[0m in \u001b[0;36msnow_partitioning\u001b[0;34m(im, dt, r_max, sigma)\u001b[0m\n\u001b[1;32m     89\u001b[0m         \u001b[0mdt\u001b[0m \u001b[0;34m=\u001b[0m \u001b[0mspim\u001b[0m\u001b[0;34m.\u001b[0m\u001b[0mgaussian_filter\u001b[0m\u001b[0;34m(\u001b[0m\u001b[0minput\u001b[0m\u001b[0;34m=\u001b[0m\u001b[0mdt\u001b[0m\u001b[0;34m,\u001b[0m \u001b[0msigma\u001b[0m\u001b[0;34m=\u001b[0m\u001b[0msigma\u001b[0m\u001b[0;34m)\u001b[0m\u001b[0;34m\u001b[0m\u001b[0;34m\u001b[0m\u001b[0m\n\u001b[1;32m     90\u001b[0m \u001b[0;34m\u001b[0m\u001b[0m\n\u001b[0;32m---> 91\u001b[0;31m     \u001b[0mpeaks\u001b[0m \u001b[0;34m=\u001b[0m \u001b[0mfind_peaks\u001b[0m\u001b[0;34m(\u001b[0m\u001b[0mdt\u001b[0m\u001b[0;34m=\u001b[0m\u001b[0mdt\u001b[0m\u001b[0;34m,\u001b[0m \u001b[0mr_max\u001b[0m\u001b[0;34m=\u001b[0m\u001b[0mr_max\u001b[0m\u001b[0;34m,\u001b[0m \u001b[0mdivs\u001b[0m\u001b[0;34m=\u001b[0m\u001b[0;36m1\u001b[0m\u001b[0;34m)\u001b[0m\u001b[0;34m\u001b[0m\u001b[0;34m\u001b[0m\u001b[0m\n\u001b[0m\u001b[1;32m     92\u001b[0m     \u001b[0mlogger\u001b[0m\u001b[0;34m.\u001b[0m\u001b[0mdebug\u001b[0m\u001b[0;34m(\u001b[0m\u001b[0;34mf\"Initial number of peaks: {spim.label(peaks)[1]}\"\u001b[0m\u001b[0;34m)\u001b[0m\u001b[0;34m\u001b[0m\u001b[0;34m\u001b[0m\u001b[0m\n\u001b[1;32m     93\u001b[0m     \u001b[0mpeaks\u001b[0m \u001b[0;34m=\u001b[0m \u001b[0mtrim_saddle_points\u001b[0m\u001b[0;34m(\u001b[0m\u001b[0mpeaks\u001b[0m\u001b[0;34m=\u001b[0m\u001b[0mpeaks\u001b[0m\u001b[0;34m,\u001b[0m \u001b[0mdt\u001b[0m\u001b[0;34m=\u001b[0m\u001b[0mdt\u001b[0m\u001b[0;34m)\u001b[0m\u001b[0;34m\u001b[0m\u001b[0;34m\u001b[0m\u001b[0m\n",
      "\u001b[0;32m~/anaconda3/envs/vtktest/lib/python3.8/site-packages/porespy/filters/_snows.py\u001b[0m in \u001b[0;36mfind_peaks\u001b[0;34m(dt, r_max, strel, divs)\u001b[0m\n\u001b[1;32m    264\u001b[0m                           cores=settings.ncores, divs=divs)\n\u001b[1;32m    265\u001b[0m     \u001b[0;32melse\u001b[0m\u001b[0;34m:\u001b[0m\u001b[0;34m\u001b[0m\u001b[0;34m\u001b[0m\u001b[0m\n\u001b[0;32m--> 266\u001b[0;31m         \u001b[0mmx\u001b[0m \u001b[0;34m=\u001b[0m \u001b[0mspim\u001b[0m\u001b[0;34m.\u001b[0m\u001b[0mmaximum_filter\u001b[0m\u001b[0;34m(\u001b[0m\u001b[0mdt\u001b[0m \u001b[0;34m+\u001b[0m \u001b[0;36m2\u001b[0m \u001b[0;34m*\u001b[0m \u001b[0;34m(\u001b[0m\u001b[0;34m~\u001b[0m\u001b[0mim\u001b[0m\u001b[0;34m)\u001b[0m\u001b[0;34m,\u001b[0m \u001b[0mfootprint\u001b[0m\u001b[0;34m=\u001b[0m\u001b[0mstrel\u001b[0m\u001b[0;34m(\u001b[0m\u001b[0mr_max\u001b[0m\u001b[0;34m)\u001b[0m\u001b[0;34m)\u001b[0m\u001b[0;34m\u001b[0m\u001b[0;34m\u001b[0m\u001b[0m\n\u001b[0m\u001b[1;32m    267\u001b[0m     \u001b[0mpeaks\u001b[0m \u001b[0;34m=\u001b[0m \u001b[0;34m(\u001b[0m\u001b[0mdt\u001b[0m \u001b[0;34m==\u001b[0m \u001b[0mmx\u001b[0m\u001b[0;34m)\u001b[0m \u001b[0;34m*\u001b[0m \u001b[0mim\u001b[0m\u001b[0;34m\u001b[0m\u001b[0;34m\u001b[0m\u001b[0m\n\u001b[1;32m    268\u001b[0m     \u001b[0;32mreturn\u001b[0m \u001b[0mpeaks\u001b[0m\u001b[0;34m\u001b[0m\u001b[0;34m\u001b[0m\u001b[0m\n",
      "\u001b[0;32m~/anaconda3/envs/vtktest/lib/python3.8/site-packages/scipy/ndimage/filters.py\u001b[0m in \u001b[0;36mmaximum_filter\u001b[0;34m(input, size, footprint, output, mode, cval, origin)\u001b[0m\n\u001b[1;32m   1237\u001b[0m     \u001b[0;34m>>\u001b[0m\u001b[0;34m>\u001b[0m \u001b[0mplt\u001b[0m\u001b[0;34m.\u001b[0m\u001b[0mshow\u001b[0m\u001b[0;34m(\u001b[0m\u001b[0;34m)\u001b[0m\u001b[0;34m\u001b[0m\u001b[0;34m\u001b[0m\u001b[0m\n\u001b[1;32m   1238\u001b[0m     \"\"\"\n\u001b[0;32m-> 1239\u001b[0;31m     return _min_or_max_filter(input, size, footprint, None, output, mode,\n\u001b[0m\u001b[1;32m   1240\u001b[0m                               cval, origin, 0)\n\u001b[1;32m   1241\u001b[0m \u001b[0;34m\u001b[0m\u001b[0m\n",
      "\u001b[0;32m~/anaconda3/envs/vtktest/lib/python3.8/site-packages/scipy/ndimage/filters.py\u001b[0m in \u001b[0;36m_min_or_max_filter\u001b[0;34m(input, size, footprint, structure, output, mode, cval, origin, minimum)\u001b[0m\n\u001b[1;32m   1149\u001b[0m                 \"footprints\")\n\u001b[1;32m   1150\u001b[0m         \u001b[0mmode\u001b[0m \u001b[0;34m=\u001b[0m \u001b[0m_ni_support\u001b[0m\u001b[0;34m.\u001b[0m\u001b[0m_extend_mode_to_code\u001b[0m\u001b[0;34m(\u001b[0m\u001b[0mmode\u001b[0m\u001b[0;34m)\u001b[0m\u001b[0;34m\u001b[0m\u001b[0;34m\u001b[0m\u001b[0m\n\u001b[0;32m-> 1151\u001b[0;31m         _nd_image.min_or_max_filter(input, footprint, structure, output,\n\u001b[0m\u001b[1;32m   1152\u001b[0m                                     mode, cval, origins, minimum)\n\u001b[1;32m   1153\u001b[0m     \u001b[0;32mif\u001b[0m \u001b[0mtemp_needed\u001b[0m\u001b[0;34m:\u001b[0m\u001b[0;34m\u001b[0m\u001b[0;34m\u001b[0m\u001b[0m\n",
      "\u001b[0;31mKeyboardInterrupt\u001b[0m: "
     ]
    }
   ],
   "source": [
    "parts = [SIM.apply(lambda vol: porespy.filters.snow_partitioning(vol, r_max = 10).regions) for SIM in bin_int_SIM]"
   ]
  },
  {
   "cell_type": "code",
   "execution_count": 10,
   "metadata": {},
   "outputs": [
    {
     "ename": "NameError",
     "evalue": "name 'parts' is not defined",
     "output_type": "error",
     "traceback": [
      "\u001b[0;31m---------------------------------------------------------------------------\u001b[0m",
      "\u001b[0;31mNameError\u001b[0m                                 Traceback (most recent call last)",
      "\u001b[0;32m/tmp/ipykernel_4431/2601905039.py\u001b[0m in \u001b[0;36m<module>\u001b[0;34m\u001b[0m\n\u001b[1;32m      1\u001b[0m \u001b[0mplotter\u001b[0m \u001b[0;34m=\u001b[0m \u001b[0mpv\u001b[0m\u001b[0;34m.\u001b[0m\u001b[0mPlotter\u001b[0m\u001b[0;34m(\u001b[0m\u001b[0mnotebook\u001b[0m \u001b[0;34m=\u001b[0m \u001b[0;32mFalse\u001b[0m\u001b[0;34m)\u001b[0m\u001b[0;34m\u001b[0m\u001b[0;34m\u001b[0m\u001b[0m\n\u001b[1;32m      2\u001b[0m \u001b[0mchannel\u001b[0m \u001b[0;34m=\u001b[0m \u001b[0;36m0\u001b[0m\u001b[0;34m\u001b[0m\u001b[0;34m\u001b[0m\u001b[0m\n\u001b[0;32m----> 3\u001b[0;31m \u001b[0mpvgrid\u001b[0m \u001b[0;34m=\u001b[0m \u001b[0mparts\u001b[0m\u001b[0;34m[\u001b[0m\u001b[0mchannel\u001b[0m\u001b[0;34m]\u001b[0m\u001b[0;34m.\u001b[0m\u001b[0mto_pvUniformGrid\u001b[0m\u001b[0;34m(\u001b[0m\u001b[0;34m)\u001b[0m\u001b[0;34m\u001b[0m\u001b[0;34m\u001b[0m\u001b[0m\n\u001b[0m\u001b[1;32m      4\u001b[0m \u001b[0;34m\u001b[0m\u001b[0m\n\u001b[1;32m      5\u001b[0m \u001b[0mplotter\u001b[0m\u001b[0;34m.\u001b[0m\u001b[0madd_mesh\u001b[0m\u001b[0;34m(\u001b[0m\u001b[0mpvgrid\u001b[0m\u001b[0;34m,\u001b[0m \u001b[0mcmap\u001b[0m \u001b[0;34m=\u001b[0m \u001b[0;34m'kbc'\u001b[0m\u001b[0;34m,\u001b[0m \u001b[0mlighting\u001b[0m \u001b[0;34m=\u001b[0m \u001b[0;32mTrue\u001b[0m\u001b[0;34m,\u001b[0m \u001b[0mopacity\u001b[0m \u001b[0;34m=\u001b[0m \u001b[0;36m1.0\u001b[0m\u001b[0;34m)\u001b[0m\u001b[0;34m\u001b[0m\u001b[0;34m\u001b[0m\u001b[0m\n",
      "\u001b[0;31mNameError\u001b[0m: name 'parts' is not defined"
     ]
    }
   ],
   "source": [
    "plotter = pv.Plotter(notebook = False)\n",
    "channel = 0\n",
    "pvgrid = parts[channel].to_pvUniformGrid()\n",
    "\n",
    "plotter.add_mesh(pvgrid, cmap = 'kbc', lighting = True, opacity = 1.0)\n",
    "plotter.show()"
   ]
  },
  {
   "cell_type": "code",
   "execution_count": 110,
   "metadata": {},
   "outputs": [],
   "source": [
    "import itk\n",
    "def itk_skeleton(sim):\n",
    "    skeleton = itk.BinaryThinningImageFilter3D.New(itk.GetImageFromArray(np.float32(sim.data)))\n",
    "    return itk.GetArrayFromImage(skeleton)\n",
    "\n",
    "def itk_thickness(sim):\n",
    "    skeleton = itk.MedialThicknessImageFilter3D.New(itk.GetImageFromArray(np.float32(sim.data)))\n",
    "    return itk.GetArrayFromImage(skeleton)\n",
    "\n",
    "\n",
    "itk_skel = [SIM.apply(itk_skeleton) for SIM in bin_int_SIM]"
   ]
  },
  {
   "cell_type": "code",
   "execution_count": 77,
   "metadata": {},
   "outputs": [],
   "source": [
    "plotter = pv.Plotter(notebook = False)\n",
    "channel = 1\n",
    "pvgrid = itk_skel[channel].to_pvUniformGrid()\n",
    "\n",
    "plotter.add_mesh(pvgrid.threshold(0.5).elevation(), cmap = 'fire', lighting = True, opacity = 1.0)\n",
    "plotter.show()"
   ]
  },
  {
   "cell_type": "code",
   "execution_count": 114,
   "metadata": {},
   "outputs": [],
   "source": [
    "plotter = pv.Plotter(notebook = False)\n",
    "#pvgrid_actin = itk_skel[0].to_pvUniformGrid()\n",
    "pvgrid_desmin = itk_skel[1].to_pvUniformGrid()\n",
    "#plotter.add_mesh(pvgrid_actin.threshold(value = 0.5).elevation().extract_geometry().smooth(n_iter = 500), cmap = 'kbc', lighting = True, opacity = 1.0)\n",
    "plotter.add_mesh(pvgrid_desmin.threshold(value = 0.5).elevation().extract_geometry().smooth(n_iter = 500), cmap = 'fire', lighting = True, opacity = 1.0)\n",
    "plotter.show()"
   ]
  },
  {
   "cell_type": "code",
   "execution_count": 76,
   "metadata": {},
   "outputs": [],
   "source": [
    "itk_thick = [SIM.apply(itk_thickness) for SIM in bin_int_SIM]"
   ]
  },
  {
   "cell_type": "code",
   "execution_count": 48,
   "metadata": {},
   "outputs": [
    {
     "ename": "NameError",
     "evalue": "name 'itk_thick' is not defined",
     "output_type": "error",
     "traceback": [
      "\u001b[0;31m---------------------------------------------------------------------------\u001b[0m",
      "\u001b[0;31mNameError\u001b[0m                                 Traceback (most recent call last)",
      "\u001b[0;32m/tmp/ipykernel_3254/1588033607.py\u001b[0m in \u001b[0;36m<module>\u001b[0;34m\u001b[0m\n\u001b[1;32m      1\u001b[0m \u001b[0mplotter\u001b[0m \u001b[0;34m=\u001b[0m \u001b[0mpv\u001b[0m\u001b[0;34m.\u001b[0m\u001b[0mPlotter\u001b[0m\u001b[0;34m(\u001b[0m\u001b[0mnotebook\u001b[0m \u001b[0;34m=\u001b[0m \u001b[0;32mFalse\u001b[0m\u001b[0;34m)\u001b[0m\u001b[0;34m\u001b[0m\u001b[0;34m\u001b[0m\u001b[0m\n\u001b[1;32m      2\u001b[0m \u001b[0mchannel\u001b[0m \u001b[0;34m=\u001b[0m \u001b[0;36m0\u001b[0m\u001b[0;34m\u001b[0m\u001b[0;34m\u001b[0m\u001b[0m\n\u001b[0;32m----> 3\u001b[0;31m \u001b[0mpvgrid\u001b[0m \u001b[0;34m=\u001b[0m \u001b[0mitk_thick\u001b[0m\u001b[0;34m[\u001b[0m\u001b[0mchannel\u001b[0m\u001b[0;34m]\u001b[0m\u001b[0;34m.\u001b[0m\u001b[0mto_pvUniformGrid\u001b[0m\u001b[0;34m(\u001b[0m\u001b[0;34m)\u001b[0m\u001b[0;34m\u001b[0m\u001b[0;34m\u001b[0m\u001b[0m\n\u001b[0m\u001b[1;32m      4\u001b[0m \u001b[0;34m\u001b[0m\u001b[0m\n\u001b[1;32m      5\u001b[0m \u001b[0mplotter\u001b[0m\u001b[0;34m.\u001b[0m\u001b[0madd_mesh\u001b[0m\u001b[0;34m(\u001b[0m\u001b[0mpvgrid\u001b[0m\u001b[0;34m.\u001b[0m\u001b[0mthreshold\u001b[0m\u001b[0;34m(\u001b[0m\u001b[0;36m1e-3\u001b[0m\u001b[0;34m)\u001b[0m\u001b[0;34m,\u001b[0m \u001b[0mcmap\u001b[0m \u001b[0;34m=\u001b[0m \u001b[0;34m'kbc'\u001b[0m\u001b[0;34m,\u001b[0m \u001b[0mlighting\u001b[0m \u001b[0;34m=\u001b[0m \u001b[0;32mTrue\u001b[0m\u001b[0;34m,\u001b[0m \u001b[0mopacity\u001b[0m \u001b[0;34m=\u001b[0m \u001b[0;36m1.0\u001b[0m\u001b[0;34m)\u001b[0m\u001b[0;34m\u001b[0m\u001b[0;34m\u001b[0m\u001b[0m\n",
      "\u001b[0;31mNameError\u001b[0m: name 'itk_thick' is not defined"
     ]
    }
   ],
   "source": [
    "plotter = pv.Plotter(notebook = False)\n",
    "channel = 0\n",
    "pvgrid = itk_thick[channel].to_pvUniformGrid()\n",
    "\n",
    "plotter.add_mesh(pvgrid.threshold(1e-3), cmap = 'kbc', lighting = True, opacity = 1.0)\n",
    "plotter.show()"
   ]
  },
  {
   "cell_type": "code",
   "execution_count": 91,
   "metadata": {},
   "outputs": [
    {
     "data": {
      "text/plain": [
       "(array([1.835e+03, 7.340e+02, 0.000e+00, 2.150e+02, 1.305e+03, 1.171e+03,\n",
       "        1.800e+02, 8.830e+02, 1.075e+03, 1.050e+02, 3.860e+02, 5.900e+01,\n",
       "        2.250e+02, 4.200e+01, 2.900e+01, 1.000e+00, 2.000e+01, 0.000e+00,\n",
       "        2.000e+00, 3.000e+00]),\n",
       " array([ 2.       ,  2.4830952,  2.9661903,  3.4492855,  3.9323807,\n",
       "         4.415476 ,  4.898571 ,  5.381666 ,  5.8647614,  6.3478565,\n",
       "         6.8309517,  7.314047 ,  7.797142 ,  8.280237 ,  8.763332 ,\n",
       "         9.246428 ,  9.729523 , 10.212618 , 10.695713 , 11.178808 ,\n",
       "        11.661903 ], dtype=float32),\n",
       " <BarContainer object of 20 artists>)"
      ]
     },
     "execution_count": 91,
     "metadata": {},
     "output_type": "execute_result"
    }
   ],
   "source": [
    "plt.hist(itk_thick[0].data[itk_thick[0].data>0], bins = 20)"
   ]
  },
  {
   "cell_type": "code",
   "execution_count": 92,
   "metadata": {},
   "outputs": [
    {
     "data": {
      "text/plain": [
       "(array([4685.,    0., 2250.,  530.,    0., 3290., 2126.,  267.,    0.,\n",
       "         982.,  958.,   66.,    8.,  169.,    0.,   90.,   15.,    9.,\n",
       "           0.,    9.]),\n",
       " array([ 2. ,  2.4,  2.8,  3.2,  3.6,  4. ,  4.4,  4.8,  5.2,  5.6,  6. ,\n",
       "         6.4,  6.8,  7.2,  7.6,  8. ,  8.4,  8.8,  9.2,  9.6, 10. ],\n",
       "       dtype=float32),\n",
       " <BarContainer object of 20 artists>)"
      ]
     },
     "execution_count": 92,
     "metadata": {},
     "output_type": "execute_result"
    }
   ],
   "source": [
    "plt.hist(itk_thick[1].data[itk_thick[1].data>0], bins = 20)"
   ]
  },
  {
   "cell_type": "code",
   "execution_count": null,
   "metadata": {},
   "outputs": [],
   "source": []
  }
 ],
 "metadata": {
  "interpreter": {
   "hash": "ffaa52439d012f44f8d7fae90a3f5b9465d0ab7181e3f07191f5e7c90ea5a0b2"
  },
  "kernelspec": {
   "display_name": "Python 3.8.12 64-bit ('vtktest': conda)",
   "language": "python",
   "name": "python3"
  },
  "language_info": {
   "codemirror_mode": {
    "name": "ipython",
    "version": 3
   },
   "file_extension": ".py",
   "mimetype": "text/x-python",
   "name": "python",
   "nbconvert_exporter": "python",
   "pygments_lexer": "ipython3",
   "version": "3.8.12"
  },
  "orig_nbformat": 4
 },
 "nbformat": 4,
 "nbformat_minor": 2
}
